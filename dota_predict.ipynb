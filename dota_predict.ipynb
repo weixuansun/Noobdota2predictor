{
 "cells": [
  {
   "cell_type": "code",
   "execution_count": 1,
   "metadata": {},
   "outputs": [],
   "source": [
    "import pandas as pd\n",
    "import numpy as np\n",
    "from pandas import Series,DataFrame"
   ]
  },
  {
   "cell_type": "code",
   "execution_count": 2,
   "metadata": {},
   "outputs": [
    {
     "name": "stdout",
     "output_type": "stream",
     "text": [
      "<class 'pandas.core.frame.DataFrame'>\n",
      "RangeIndex: 21961 entries, 0 to 21960\n",
      "Data columns (total 13 columns):\n",
      "Unnamed: 0     21961 non-null int64\n",
      "radiant_1      21961 non-null int64\n",
      "radiant_2      21961 non-null int64\n",
      "radiant_3      21961 non-null int64\n",
      "radiant_4      21961 non-null int64\n",
      "radiant_5      21961 non-null int64\n",
      "dire_1         21961 non-null int64\n",
      "dire_2         21961 non-null int64\n",
      "dire_3         21961 non-null int64\n",
      "dire_4         21961 non-null int64\n",
      "dire_5         21961 non-null int64\n",
      "radiant_win    21961 non-null int64\n",
      "match_id       21961 non-null int64\n",
      "dtypes: int64(13)\n",
      "memory usage: 2.2 MB\n"
     ]
    }
   ],
   "source": [
    "#读取csv中的比赛数据\n",
    "dota_data = pd.read_csv(\"E:/learning/dota_data/dota_data.csv\")\n",
    "dota_data.info()"
   ]
  },
  {
   "cell_type": "code",
   "execution_count": 25,
   "metadata": {},
   "outputs": [
    {
     "data": {
      "text/plain": [
       "<matplotlib.figure.Figure at 0x20487cef4e0>"
      ]
     },
     "metadata": {},
     "output_type": "display_data"
    },
    {
     "data": {
      "image/png": "[encoded data removed]",
      "text/plain": [
       "<matplotlib.figure.Figure at 0x20487cefb70>"
      ]
     },
     "metadata": {},
     "output_type": "display_data"
    }
   ],
   "source": [
    "#先来看下天辉及夜宴方胜率\n",
    "import matplotlib.pyplot as plt\n",
    "fig = plt.figure()\n",
    "fig.set(alpha=0.2)  # 设定图表颜色alpha参数\n",
    "\n",
    "plt.rcParams['font.sans-serif']=['SimHei'] #用来正常显示中文标签\n",
    "plt.rcParams['axes.unicode_minus']=False #用来正常显示负号\n",
    "#有中文出现的情况，需要u'内容'\n",
    "\n",
    "plt.figure(figsize=(5,5)) \n",
    "#接下来绘制饼图\n",
    "plt.pie(dota_data.radiant_win.value_counts(),\n",
    "        autopct = '%.2f%%',\n",
    "       explode = [0.2,0],\n",
    "       startangle = 90,\n",
    "       labels=(u'天辉',u'夜魇'))\n",
    "plt.title(u\"天辉夜魇胜率\")# 标题\n",
    "plt.show()"
   ]
  },
  {
   "cell_type": "code",
   "execution_count": 26,
   "metadata": {},
   "outputs": [],
   "source": [
    "#统计下英雄的出场率及胜率\n",
    "columns=['radiant_1','radiant_2','radiant_3','radiant_4','radiant_5','dire_1','dire_2','dire_3','dire_4','dire_5']\n",
    "win=np.zeros(115)\n",
    "lose=np.zeros(115)\n",
    "for i in range(5):\n",
    "    a=dota_data.groupby([columns[i],'radiant_win'])\n",
    "    s=DataFrame(a.size())\n",
    "    s_sum = s.unstack()\n",
    "    z=s_sum[0]\n",
    "    lose+=z[0].values\n",
    "    win+=z[1].values\n",
    "for i in range(5,10):\n",
    "    a=dota_data.groupby([columns[i],'radiant_win'])\n",
    "    s=DataFrame(a.size())\n",
    "    s_sum = s.unstack()\n",
    "    z=s_sum[0]\n",
    "    lose+=z[1].values\n",
    "    win+=z[0].values\n",
    "board = Series(win+lose)\n",
    "win_rate =Series(win/board)\n",
    "board_rate = board/21961\n",
    "\n",
    "\n",
    "list = [win_rate,board_rate]\n",
    "hero_rate = pd.concat(list, axis=1,)\n",
    "hero_rate.to_csv('E:/learning/dota_data/hero_rate.csv')"
   ]
  },
  {
   "cell_type": "code",
   "execution_count": 5,
   "metadata": {},
   "outputs": [],
   "source": [
    "def _dataset_to_features(dataset_df):\n",
    "    #构造一个空的x目标矩阵，列数为英雄数量*2，行数为样本数量\n",
    "    x_matrix = np.zeros((dataset_df.shape[0], 2 *120))\n",
    "    \n",
    "    #构造一个空的y目标矩阵，行数为样本数量\n",
    "    y_matrix = np.zeros(dataset_df.shape[0])\n",
    "    \n",
    "    #将原样本中的数据，用pandas的values函数导出为一个numpy的矩阵类型\n",
    "    dataset_np = dataset_df.values\n",
    "    \n",
    "    #对矩阵的每行每个英雄，分别映射到x的目标矩阵中\n",
    "    for i, row in enumerate(dataset_np):\n",
    "        radiant_win = row[10]        \n",
    "        for j in range(5):\n",
    "            x_matrix[i, row[j] - 1] = 1\n",
    "            x_matrix[i, row[j+5] - 1] = 1\n",
    "        #将游戏胜负映射到y的目标矩阵中\n",
    "        y_matrix[i] = 1 if radiant_win else 0\n",
    "\n",
    "    return [x_matrix, y_matrix]\n"
   ]
  },
  {
   "cell_type": "code",
   "execution_count": 6,
   "metadata": {},
   "outputs": [
    {
     "data": {
      "text/plain": [
       "[array([[0., 0., 0., ..., 0., 0., 0.],\n",
       "        [0., 0., 0., ..., 0., 0., 0.],\n",
       "        [0., 0., 0., ..., 0., 0., 0.],\n",
       "        ...,\n",
       "        [0., 0., 0., ..., 0., 0., 0.],\n",
       "        [0., 1., 0., ..., 0., 0., 0.],\n",
       "        [1., 0., 0., ..., 0., 0., 0.]]), array([1., 1., 0., ..., 1., 1., 1.])]"
      ]
     },
     "execution_count": 6,
     "metadata": {},
     "output_type": "execute_result"
    }
   ],
   "source": [
    "dota_data.drop('Unnamed: 0',axis=1, inplace=True)\n",
    "train_data = _dataset_to_features(dota_data)\n",
    "\n",
    "train_data"
   ]
  },
  {
   "cell_type": "code",
   "execution_count": 7,
   "metadata": {},
   "outputs": [
    {
     "data": {
      "text/plain": [
       "array([[0., 0., 0., ..., 0., 0., 0.],\n",
       "       [0., 0., 0., ..., 0., 0., 0.],\n",
       "       [0., 0., 0., ..., 0., 0., 0.],\n",
       "       ...,\n",
       "       [0., 0., 0., ..., 0., 0., 0.],\n",
       "       [0., 1., 0., ..., 0., 0., 0.],\n",
       "       [1., 0., 0., ..., 0., 0., 0.]])"
      ]
     },
     "execution_count": 7,
     "metadata": {},
     "output_type": "execute_result"
    }
   ],
   "source": [
    "train_data[0]"
   ]
  },
  {
   "cell_type": "code",
   "execution_count": 8,
   "metadata": {},
   "outputs": [
    {
     "data": {
      "text/plain": [
       "(21961, 240)"
      ]
     },
     "execution_count": 8,
     "metadata": {},
     "output_type": "execute_result"
    }
   ],
   "source": [
    "train_data[0].shape"
   ]
  },
  {
   "cell_type": "code",
   "execution_count": 9,
   "metadata": {},
   "outputs": [
    {
     "name": "stderr",
     "output_type": "stream",
     "text": [
      "G:\\anaconda\\lib\\site-packages\\sklearn\\cross_validation.py:41: DeprecationWarning: This module was deprecated in version 0.18 in favor of the model_selection module into which all the refactored classes and functions are moved. Also note that the interface of the new CV iterators are different from that of this module. This module will be removed in 0.20.\n",
      "  \"This module will be removed in 0.20.\", DeprecationWarning)\n"
     ]
    }
   ],
   "source": [
    "from sklearn.externals import joblib\n",
    "from sklearn.metrics import roc_auc_score, accuracy_score\n",
    "from sklearn.model_selection import cross_val_score\n",
    "from sklearn.preprocessing import StandardScaler\n",
    "from sklearn.linear_model import LogisticRegression\n",
    "from sklearn.model_selection import train_test_split\n",
    "from sklearn.cross_validation import StratifiedKFold  \n",
    "from sklearn.metrics import roc_curve, auc  \n",
    "from scipy import interp\n",
    "from sklearn.metrics import accuracy_score"
   ]
  },
  {
   "cell_type": "code",
   "execution_count": 40,
   "metadata": {},
   "outputs": [],
   "source": [
    "x,y = train_data"
   ]
  },
  {
   "cell_type": "code",
   "execution_count": 41,
   "metadata": {},
   "outputs": [],
   "source": [
    "x_train, x_test, y_train, y_test = train_test_split(\n",
    "    x, y, test_size=0.30, random_state=42)"
   ]
  },
  {
   "cell_type": "code",
   "execution_count": 42,
   "metadata": {},
   "outputs": [],
   "source": [
    "#将数据归一化\n",
    "scaler = StandardScaler()\n",
    "scaler.fit(x_train)\n",
    "x_train = scaler.transform(x_train)\n",
    "x_test = scaler.transform(x_test)"
   ]
  },
  {
   "cell_type": "code",
   "execution_count": 13,
   "metadata": {},
   "outputs": [
    {
     "data": {
      "text/plain": [
       "0.5036838459421645"
      ]
     },
     "execution_count": 13,
     "metadata": {},
     "output_type": "execute_result"
    }
   ],
   "source": [
    "cv = 10\n",
    "model = LogisticRegression(C=0.005, random_state=42)\n",
    "cv_scores = cross_val_score(model, x_train, y_train, cv=cv, scoring='roc_auc',\n",
    "                                           n_jobs=-1)\n",
    "\n",
    "cv_score = np.mean(cv_scores)\n",
    "cv_score"
   ]
  },
  {
   "cell_type": "code",
   "execution_count": 44,
   "metadata": {},
   "outputs": [
    {
     "data": {
      "text/plain": [
       "0.521171649719229"
      ]
     },
     "execution_count": 44,
     "metadata": {},
     "output_type": "execute_result"
    }
   ],
   "source": [
    "model = LogisticRegression(C=0.005, random_state=42)\n",
    "model.fit(x_train, y_train)\n",
    "probabilities = model.predict_proba(x_test)\n",
    "lr_prodict = model.predict(x_test)\n",
    "lr_accuracy_score = accuracy_score(y_test, lr_prodict)\n",
    "lr_accuracy_score"
   ]
  },
  {
   "cell_type": "code",
   "execution_count": 15,
   "metadata": {},
   "outputs": [
    {
     "data": {
      "image/png": "[encoded data removed]",
      "text/plain": [
       "<matplotlib.figure.Figure at 0x204ef279860>"
      ]
     },
     "metadata": {},
     "output_type": "display_data"
    }
   ],
   "source": [
    "mean_tpr = 0.0\n",
    "mean_fpr = np.linspace(0, 1, 100)  \n",
    "all_tpr = []  \n",
    "\n",
    "fpr, tpr, thresholds = roc_curve(y_test, probabilities[:, 1])\n",
    "mean_tpr += interp(mean_fpr, fpr, tpr)\n",
    "mean_tpr[0] = 0.0 \n",
    "roc_auc = auc(fpr, tpr) \n",
    "plt.plot(fpr, tpr, lw=1, label='ROC fold %d (area = %0.2f)' % (i, roc_auc))\n",
    "plt.plot([0, 1], [0, 1], '--', color=(0.6, 0.6, 0.6), label='Luck')  \n",
    "plt.xlabel('False Positive Rate')  \n",
    "plt.ylabel('True Positive Rate')  \n",
    "plt.title('Receiver operating characteristic example')  \n",
    "plt.legend(loc=\"lower right\") \n",
    "plt.show()"
   ]
  },
  {
   "cell_type": "code",
   "execution_count": 16,
   "metadata": {},
   "outputs": [],
   "source": [
    "import xgboost as xgb"
   ]
  },
  {
   "cell_type": "code",
   "execution_count": 17,
   "metadata": {},
   "outputs": [
    {
     "name": "stderr",
     "output_type": "stream",
     "text": [
      "G:\\anaconda\\lib\\site-packages\\sklearn\\preprocessing\\label.py:151: DeprecationWarning: The truth value of an empty array is ambiguous. Returning False, but in future this will result in an error. Use `array.size > 0` to check that an array is not empty.\n",
      "  if diff:\n"
     ]
    }
   ],
   "source": [
    "gbm = xgb.XGBClassifier(\n",
    "    #learning_rate = 0.02,\n",
    " n_estimators= 2000,\n",
    " max_depth= 4,\n",
    " min_child_weight= 2,\n",
    " #gamma=1,\n",
    " gamma=0.9,                        \n",
    " subsample=0.8,\n",
    " colsample_bytree=0.8,\n",
    " objective= 'binary:logistic',\n",
    " nthread= -1,\n",
    " scale_pos_weight=1).fit(x_train, y_train)\n",
    "predictions = gbm.predict(x_test)\n"
   ]
  },
  {
   "cell_type": "code",
   "execution_count": 18,
   "metadata": {},
   "outputs": [
    {
     "data": {
      "text/plain": [
       "0.5038700865078161"
      ]
     },
     "execution_count": 18,
     "metadata": {},
     "output_type": "execute_result"
    }
   ],
   "source": [
    "gbm_accuracy_score = accuracy_score(y_test, predictions)\n",
    "gbm_accuracy_score"
   ]
  },
  {
   "cell_type": "code",
   "execution_count": 19,
   "metadata": {},
   "outputs": [
    {
     "data": {
      "text/plain": [
       "0.5036838459421645"
      ]
     },
     "execution_count": 19,
     "metadata": {},
     "output_type": "execute_result"
    }
   ],
   "source": [
    "cv = 10\n",
    "from sklearn import svm\n",
    "\n",
    "model1 = svm.SVC(C=0.01,probability = True)\n",
    "model1.fit(x_train, y_train) \n",
    "\n",
    "cv_scores = cross_val_score(model, x_train, y_train, cv=cv, scoring='roc_auc',\n",
    "                                           n_jobs=-1)\n",
    "\n",
    "cv_score = np.mean(cv_scores)\n",
    "cv_score"
   ]
  },
  {
   "cell_type": "code",
   "execution_count": 20,
   "metadata": {},
   "outputs": [
    {
     "data": {
      "text/plain": [
       "0.521171649719229"
      ]
     },
     "execution_count": 20,
     "metadata": {},
     "output_type": "execute_result"
    }
   ],
   "source": [
    "probabilities_svm = model1.predict_proba(x_test)\n",
    "svm_prodict = model.predict(x_test)\n",
    "svm_accuracy_score = accuracy_score(y_test, svm_prodict)\n",
    "svm_accuracy_score"
   ]
  },
  {
   "cell_type": "code",
   "execution_count": 21,
   "metadata": {},
   "outputs": [
    {
     "data": {
      "image/png": "[encoded data removed]",
      "text/plain": [
       "<matplotlib.figure.Figure at 0x204ef26f080>"
      ]
     },
     "metadata": {},
     "output_type": "display_data"
    }
   ],
   "source": [
    "def roc (test,probabily):\n",
    "    mean_tpr = 0.0\n",
    "    mean_fpr = np.linspace(0, 1, 100)  \n",
    "    all_tpr = []  \n",
    "\n",
    "    fpr, tpr, thresholds = roc_curve(y_test, probabily[:, 1])\n",
    "    mean_tpr += interp(mean_fpr, fpr, tpr)\n",
    "    mean_tpr[0] = 0.0 \n",
    "    roc_auc = auc(fpr, tpr) \n",
    "    plt.plot(fpr, tpr, lw=1, label='LRROC fold %d (area = %0.2f)' % (i, roc_auc))\n",
    "\n",
    "lr_roc = roc(y_test,probabilities)\n",
    "roc(y_test,probabilities_svm)\n",
    "\n",
    "plt.plot([0, 1], [0, 1], '--', color=(0.6, 0.6, 0.6), label='Luck')  \n",
    "plt.xlabel('False Positive Rate')  \n",
    "plt.ylabel('True Positive Rate')  \n",
    "plt.title('Receiver operating characteristic example')  \n",
    "plt.legend(loc=\"lower right\") \n",
    "plt.show()"
   ]
  },
  {
   "cell_type": "code",
   "execution_count": 64,
   "metadata": {},
   "outputs": [
    {
     "data": {
      "text/plain": [
       "0.5036838459421645"
      ]
     },
     "execution_count": 64,
     "metadata": {},
     "output_type": "execute_result"
    }
   ],
   "source": [
    "from sklearn.ensemble import AdaBoostClassifier\n",
    " \n",
    "model2 = AdaBoostClassifier(n_estimators=1000, #迭代次数\n",
    "                        learning_rate=0.1 #学习率\n",
    "                        )\n",
    "cv = 10\n",
    "scores = cross_val_score(model, x_train, y_train, cv=cv, scoring='roc_auc',\n",
    "                                           n_jobs=-1) #分类器的精确度  \n",
    "scores.mean()  "
   ]
  },
  {
   "cell_type": "code",
   "execution_count": 65,
   "metadata": {},
   "outputs": [
    {
     "data": {
      "text/plain": [
       "0.5205645773258462"
      ]
     },
     "execution_count": 65,
     "metadata": {},
     "output_type": "execute_result"
    }
   ],
   "source": [
    "model2.fit(x_train,y_train)\n",
    "adaboost_prodict = model2.predict(x_test)\n",
    "ada_accuracy_score = accuracy_score(y_test, adaboost_prodict)\n",
    "ada_accuracy_score"
   ]
  },
  {
   "cell_type": "code",
   "execution_count": null,
   "metadata": {},
   "outputs": [],
   "source": []
  }
 ],
 "metadata": {
  "kernelspec": {
   "display_name": "Python 3",
   "language": "python",
   "name": "python3"
  },
  "language_info": {
   "codemirror_mode": {
    "name": "ipython",
    "version": 3
   },
   "file_extension": ".py",
   "mimetype": "text/x-python",
   "name": "python",
   "nbconvert_exporter": "python",
   "pygments_lexer": "ipython3",
   "version": "3.6.4"
  }
 },
 "nbformat": 4,
 "nbformat_minor": 2
}
